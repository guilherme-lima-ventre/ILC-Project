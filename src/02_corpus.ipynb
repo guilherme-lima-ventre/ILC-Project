{
 "cells": [
  {
   "cell_type": "markdown",
   "metadata": {},
   "source": [
    "### Configuration"
   ]
  },
  {
   "cell_type": "code",
   "execution_count": 1,
   "metadata": {},
   "outputs": [],
   "source": [
    "# %pip install unidecode"
   ]
  },
  {
   "cell_type": "markdown",
   "metadata": {},
   "source": [
    "### Importing librarys"
   ]
  },
  {
   "cell_type": "code",
   "execution_count": 2,
   "metadata": {},
   "outputs": [],
   "source": [
    "import pandas as pd\n",
    "import unidecode"
   ]
  },
  {
   "cell_type": "markdown",
   "metadata": {},
   "source": [
    "### Getting Dataset"
   ]
  },
  {
   "cell_type": "code",
   "execution_count": 3,
   "metadata": {},
   "outputs": [
    {
     "data": {
      "text/html": [
       "<div>\n",
       "<style scoped>\n",
       "    .dataframe tbody tr th:only-of-type {\n",
       "        vertical-align: middle;\n",
       "    }\n",
       "\n",
       "    .dataframe tbody tr th {\n",
       "        vertical-align: top;\n",
       "    }\n",
       "\n",
       "    .dataframe thead th {\n",
       "        text-align: right;\n",
       "    }\n",
       "</style>\n",
       "<table border=\"1\" class=\"dataframe\">\n",
       "  <thead>\n",
       "    <tr style=\"text-align: right;\">\n",
       "      <th></th>\n",
       "      <th>id</th>\n",
       "      <th>Nome</th>\n",
       "      <th>Rating</th>\n",
       "      <th>Num Rating</th>\n",
       "      <th>Título</th>\n",
       "      <th>Comentário</th>\n",
       "      <th>Data do comentário</th>\n",
       "      <th>Data de acesso</th>\n",
       "      <th>Link de acesso</th>\n",
       "      <th>Região do comentário</th>\n",
       "      <th>Vericidade da compra</th>\n",
       "    </tr>\n",
       "  </thead>\n",
       "  <tbody>\n",
       "    <tr>\n",
       "      <th>0</th>\n",
       "      <td>0</td>\n",
       "      <td>Lucas David de Souza Alves</td>\n",
       "      <td>5,0 de 5 estrelas</td>\n",
       "      <td>5</td>\n",
       "      <td>Muito bom!</td>\n",
       "      <td>Muito Bom!</td>\n",
       "      <td>Avaliado no Brasil 🇧🇷 em 8 de dezembro de 2022</td>\n",
       "      <td>03 de dezembro de 2022</td>\n",
       "      <td>https://www.amazon.com.br/Fire-TV-Stick-Stream...</td>\n",
       "      <td>Brasil</td>\n",
       "      <td>Compra verificada</td>\n",
       "    </tr>\n",
       "    <tr>\n",
       "      <th>1</th>\n",
       "      <td>1</td>\n",
       "      <td>Celio Junior de Oliveira Lima</td>\n",
       "      <td>5,0 de 5 estrelas</td>\n",
       "      <td>5</td>\n",
       "      <td>Gostei muito!!</td>\n",
       "      <td>Não tão fácil de instalar mais é top de usar!!</td>\n",
       "      <td>Avaliado no Brasil 🇧🇷 em 8 de dezembro de 2022</td>\n",
       "      <td>03 de dezembro de 2022</td>\n",
       "      <td>https://www.amazon.com.br/Fire-TV-Stick-Stream...</td>\n",
       "      <td>Brasil</td>\n",
       "      <td>Compra verificada</td>\n",
       "    </tr>\n",
       "    <tr>\n",
       "      <th>2</th>\n",
       "      <td>2</td>\n",
       "      <td>Luiz T.</td>\n",
       "      <td>5,0 de 5 estrelas</td>\n",
       "      <td>5</td>\n",
       "      <td>Produto maravilhoso</td>\n",
       "      <td>Foi adquirido para uma outra pessoa, ela gosto...</td>\n",
       "      <td>Avaliado no Brasil 🇧🇷 em 8 de dezembro de 2022</td>\n",
       "      <td>03 de dezembro de 2022</td>\n",
       "      <td>https://www.amazon.com.br/Fire-TV-Stick-Stream...</td>\n",
       "      <td>Brasil</td>\n",
       "      <td>Compra verificada</td>\n",
       "    </tr>\n",
       "    <tr>\n",
       "      <th>3</th>\n",
       "      <td>3</td>\n",
       "      <td>Andrea Fleck</td>\n",
       "      <td>5,0 de 5 estrelas</td>\n",
       "      <td>5</td>\n",
       "      <td>Memoria adicional para Smart TV</td>\n",
       "      <td>Supriu a necessidade de memoria da Smart TV</td>\n",
       "      <td>Avaliado no Brasil 🇧🇷 em 8 de dezembro de 2022</td>\n",
       "      <td>03 de dezembro de 2022</td>\n",
       "      <td>https://www.amazon.com.br/Fire-TV-Stick-Stream...</td>\n",
       "      <td>Brasil</td>\n",
       "      <td>Compra verificada</td>\n",
       "    </tr>\n",
       "    <tr>\n",
       "      <th>4</th>\n",
       "      <td>4</td>\n",
       "      <td>Isis dos Santos Dal Bo</td>\n",
       "      <td>5,0 de 5 estrelas</td>\n",
       "      <td>5</td>\n",
       "      <td>Excelente! Adorei!</td>\n",
       "      <td>Adorei! Muito fácil de instalar. Funciona supe...</td>\n",
       "      <td>Avaliado no Brasil 🇧🇷 em 8 de dezembro de 2022</td>\n",
       "      <td>03 de dezembro de 2022</td>\n",
       "      <td>https://www.amazon.com.br/Fire-TV-Stick-Stream...</td>\n",
       "      <td>Brasil</td>\n",
       "      <td>Compra verificada</td>\n",
       "    </tr>\n",
       "  </tbody>\n",
       "</table>\n",
       "</div>"
      ],
      "text/plain": [
       "   id                           Nome             Rating  Num Rating  \\\n",
       "0   0     Lucas David de Souza Alves  5,0 de 5 estrelas           5   \n",
       "1   1  Celio Junior de Oliveira Lima  5,0 de 5 estrelas           5   \n",
       "2   2                        Luiz T.  5,0 de 5 estrelas           5   \n",
       "3   3                   Andrea Fleck  5,0 de 5 estrelas           5   \n",
       "4   4         Isis dos Santos Dal Bo  5,0 de 5 estrelas           5   \n",
       "\n",
       "                            Título  \\\n",
       "0                       Muito bom!   \n",
       "1                   Gostei muito!!   \n",
       "2              Produto maravilhoso   \n",
       "3  Memoria adicional para Smart TV   \n",
       "4               Excelente! Adorei!   \n",
       "\n",
       "                                          Comentário  \\\n",
       "0                                         Muito Bom!   \n",
       "1     Não tão fácil de instalar mais é top de usar!!   \n",
       "2  Foi adquirido para uma outra pessoa, ela gosto...   \n",
       "3        Supriu a necessidade de memoria da Smart TV   \n",
       "4  Adorei! Muito fácil de instalar. Funciona supe...   \n",
       "\n",
       "                               Data do comentário          Data de acesso  \\\n",
       "0  Avaliado no Brasil 🇧🇷 em 8 de dezembro de 2022  03 de dezembro de 2022   \n",
       "1  Avaliado no Brasil 🇧🇷 em 8 de dezembro de 2022  03 de dezembro de 2022   \n",
       "2  Avaliado no Brasil 🇧🇷 em 8 de dezembro de 2022  03 de dezembro de 2022   \n",
       "3  Avaliado no Brasil 🇧🇷 em 8 de dezembro de 2022  03 de dezembro de 2022   \n",
       "4  Avaliado no Brasil 🇧🇷 em 8 de dezembro de 2022  03 de dezembro de 2022   \n",
       "\n",
       "                                      Link de acesso Região do comentário  \\\n",
       "0  https://www.amazon.com.br/Fire-TV-Stick-Stream...               Brasil   \n",
       "1  https://www.amazon.com.br/Fire-TV-Stick-Stream...               Brasil   \n",
       "2  https://www.amazon.com.br/Fire-TV-Stick-Stream...               Brasil   \n",
       "3  https://www.amazon.com.br/Fire-TV-Stick-Stream...               Brasil   \n",
       "4  https://www.amazon.com.br/Fire-TV-Stick-Stream...               Brasil   \n",
       "\n",
       "  Vericidade da compra  \n",
       "0    Compra verificada  \n",
       "1    Compra verificada  \n",
       "2    Compra verificada  \n",
       "3    Compra verificada  \n",
       "4    Compra verificada  "
      ]
     },
     "execution_count": 3,
     "metadata": {},
     "output_type": "execute_result"
    }
   ],
   "source": [
    "df = pd.read_excel('../data/metadados.xlsx')\n",
    "df.head()"
   ]
  },
  {
   "cell_type": "markdown",
   "metadata": {},
   "source": [
    "### Creating .txt file"
   ]
  },
  {
   "cell_type": "code",
   "execution_count": 4,
   "metadata": {},
   "outputs": [],
   "source": [
    "rev_corpus = ''\n",
    "title_corupus = ''\n",
    "\n",
    "comments = df['Comentário'].tolist()\n",
    "titles = df['Título'].tolist()\n",
    "ct = zip(comments, titles)\n",
    "\n",
    "for c, t in ct:\n",
    "  rev_corpus = rev_corpus + \" \" + c\n",
    "  title_corupus = title_corupus + \" \" + t"
   ]
  },
  {
   "cell_type": "markdown",
   "metadata": {},
   "source": [
    "### Saving file"
   ]
  },
  {
   "cell_type": "code",
   "execution_count": 5,
   "metadata": {},
   "outputs": [],
   "source": [
    "with open('../data/rev_corpus.txt', 'w') as txt_file:\n",
    "  txt_file.write(unidecode.unidecode(rev_corpus))\n",
    "\n",
    "with open('../data/title_corpus.txt', 'w') as txt_file:\n",
    "  txt_file.write(unidecode.unidecode(title_corupus))"
   ]
  }
 ],
 "metadata": {
  "kernelspec": {
   "display_name": "Python 3.10.0 64-bit",
   "language": "python",
   "name": "python3"
  },
  "language_info": {
   "codemirror_mode": {
    "name": "ipython",
    "version": 3
   },
   "file_extension": ".py",
   "mimetype": "text/x-python",
   "name": "python",
   "nbconvert_exporter": "python",
   "pygments_lexer": "ipython3",
   "version": "3.10.0"
  },
  "orig_nbformat": 4,
  "vscode": {
   "interpreter": {
    "hash": "dd86c2ca81e94e9671e6a00c1151869a281542444b464bd149dcb3cefa24f424"
   }
  }
 },
 "nbformat": 4,
 "nbformat_minor": 2
}
