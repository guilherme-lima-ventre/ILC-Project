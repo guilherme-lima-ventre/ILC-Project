{
 "cells": [
  {
   "cell_type": "markdown",
   "metadata": {},
   "source": [
    "### Configuration"
   ]
  },
  {
   "cell_type": "code",
   "execution_count": 34,
   "metadata": {},
   "outputs": [],
   "source": [
    "# %pip install unidecode"
   ]
  },
  {
   "cell_type": "markdown",
   "metadata": {},
   "source": [
    "### Importing librarys"
   ]
  },
  {
   "cell_type": "code",
   "execution_count": 35,
   "metadata": {},
   "outputs": [],
   "source": [
    "import pandas as pd\n",
    "import unidecode"
   ]
  },
  {
   "cell_type": "markdown",
   "metadata": {},
   "source": [
    "### Getting Dataset"
   ]
  },
  {
   "cell_type": "code",
   "execution_count": 36,
   "metadata": {},
   "outputs": [
    {
     "data": {
      "text/html": [
       "<div>\n",
       "<style scoped>\n",
       "    .dataframe tbody tr th:only-of-type {\n",
       "        vertical-align: middle;\n",
       "    }\n",
       "\n",
       "    .dataframe tbody tr th {\n",
       "        vertical-align: top;\n",
       "    }\n",
       "\n",
       "    .dataframe thead th {\n",
       "        text-align: right;\n",
       "    }\n",
       "</style>\n",
       "<table border=\"1\" class=\"dataframe\">\n",
       "  <thead>\n",
       "    <tr style=\"text-align: right;\">\n",
       "      <th></th>\n",
       "      <th>Nome</th>\n",
       "      <th>Rating</th>\n",
       "      <th>Num Rating</th>\n",
       "      <th>Título</th>\n",
       "      <th>Comentário</th>\n",
       "      <th>Data do comentário</th>\n",
       "      <th>Data de acesso</th>\n",
       "      <th>Link de acesso</th>\n",
       "      <th>Região do comentário</th>\n",
       "      <th>Vericidade da compra</th>\n",
       "    </tr>\n",
       "  </thead>\n",
       "  <tbody>\n",
       "    <tr>\n",
       "      <th>0</th>\n",
       "      <td>Mario Camara</td>\n",
       "      <td>5,0 de 5 estrelas</td>\n",
       "      <td>5</td>\n",
       "      <td>Cumpre o que promete...</td>\n",
       "      <td>Nao eh caro (saiu R$ 250,00 com um cupom que d...</td>\n",
       "      <td>Avaliado no Brasil 🇧🇷 em 23 de outubro de 2022</td>\n",
       "      <td>03 de dezembro de 2022</td>\n",
       "      <td>https://www.amazon.com.br/Fire-TV-Stick-Stream...</td>\n",
       "      <td>Brasil</td>\n",
       "      <td>Compra verificada</td>\n",
       "    </tr>\n",
       "    <tr>\n",
       "      <th>1</th>\n",
       "      <td>Ítalo Gregório</td>\n",
       "      <td>4,0 de 5 estrelas</td>\n",
       "      <td>4</td>\n",
       "      <td>Melhor TV Stick que há! Só falta liberar HBO M...</td>\n",
       "      <td>Comprei o Fire TV Stick HD c/ comandos de TV p...</td>\n",
       "      <td>Avaliado no Brasil 🇧🇷 em 31 de julho de 2022</td>\n",
       "      <td>03 de dezembro de 2022</td>\n",
       "      <td>https://www.amazon.com.br/Fire-TV-Stick-Stream...</td>\n",
       "      <td>Brasil</td>\n",
       "      <td>Compra verificada</td>\n",
       "    </tr>\n",
       "    <tr>\n",
       "      <th>2</th>\n",
       "      <td>Samuel Souza</td>\n",
       "      <td>5,0 de 5 estrelas</td>\n",
       "      <td>5</td>\n",
       "      <td>Sensacional!</td>\n",
       "      <td>Mano, não tem o que dizer! Minha tv é uma AOC ...</td>\n",
       "      <td>Avaliado no Brasil 🇧🇷 em 29 de novembro de 2022</td>\n",
       "      <td>03 de dezembro de 2022</td>\n",
       "      <td>https://www.amazon.com.br/Fire-TV-Stick-Stream...</td>\n",
       "      <td>Brasil</td>\n",
       "      <td>Compra verificada</td>\n",
       "    </tr>\n",
       "    <tr>\n",
       "      <th>3</th>\n",
       "      <td>Raphael Medeiros</td>\n",
       "      <td>5,0 de 5 estrelas</td>\n",
       "      <td>5</td>\n",
       "      <td>Recomendo</td>\n",
       "      <td>Tem uma interface simplifica em relação ao Chr...</td>\n",
       "      <td>Avaliado no Brasil 🇧🇷 em 30 de novembro de 2022</td>\n",
       "      <td>03 de dezembro de 2022</td>\n",
       "      <td>https://www.amazon.com.br/Fire-TV-Stick-Stream...</td>\n",
       "      <td>Brasil</td>\n",
       "      <td>Compra verificada</td>\n",
       "    </tr>\n",
       "    <tr>\n",
       "      <th>4</th>\n",
       "      <td>Valter Bandeira</td>\n",
       "      <td>5,0 de 5 estrelas</td>\n",
       "      <td>5</td>\n",
       "      <td>Melhor investimento ja feito</td>\n",
       "      <td>Sem duvidas um dos melhores investimentos que ...</td>\n",
       "      <td>Avaliado no Brasil 🇧🇷 em 2 de dezembro de 2022</td>\n",
       "      <td>03 de dezembro de 2022</td>\n",
       "      <td>https://www.amazon.com.br/Fire-TV-Stick-Stream...</td>\n",
       "      <td>Brasil</td>\n",
       "      <td>Compra verificada</td>\n",
       "    </tr>\n",
       "  </tbody>\n",
       "</table>\n",
       "</div>"
      ],
      "text/plain": [
       "               Nome             Rating  Num Rating  \\\n",
       "0      Mario Camara  5,0 de 5 estrelas           5   \n",
       "1    Ítalo Gregório  4,0 de 5 estrelas           4   \n",
       "2      Samuel Souza  5,0 de 5 estrelas           5   \n",
       "3  Raphael Medeiros  5,0 de 5 estrelas           5   \n",
       "4   Valter Bandeira  5,0 de 5 estrelas           5   \n",
       "\n",
       "                                              Título  \\\n",
       "0                            Cumpre o que promete...   \n",
       "1  Melhor TV Stick que há! Só falta liberar HBO M...   \n",
       "2                                       Sensacional!   \n",
       "3                                          Recomendo   \n",
       "4                       Melhor investimento ja feito   \n",
       "\n",
       "                                          Comentário  \\\n",
       "0  Nao eh caro (saiu R$ 250,00 com um cupom que d...   \n",
       "1  Comprei o Fire TV Stick HD c/ comandos de TV p...   \n",
       "2  Mano, não tem o que dizer! Minha tv é uma AOC ...   \n",
       "3  Tem uma interface simplifica em relação ao Chr...   \n",
       "4  Sem duvidas um dos melhores investimentos que ...   \n",
       "\n",
       "                                Data do comentário          Data de acesso  \\\n",
       "0   Avaliado no Brasil 🇧🇷 em 23 de outubro de 2022  03 de dezembro de 2022   \n",
       "1     Avaliado no Brasil 🇧🇷 em 31 de julho de 2022  03 de dezembro de 2022   \n",
       "2  Avaliado no Brasil 🇧🇷 em 29 de novembro de 2022  03 de dezembro de 2022   \n",
       "3  Avaliado no Brasil 🇧🇷 em 30 de novembro de 2022  03 de dezembro de 2022   \n",
       "4   Avaliado no Brasil 🇧🇷 em 2 de dezembro de 2022  03 de dezembro de 2022   \n",
       "\n",
       "                                      Link de acesso Região do comentário  \\\n",
       "0  https://www.amazon.com.br/Fire-TV-Stick-Stream...               Brasil   \n",
       "1  https://www.amazon.com.br/Fire-TV-Stick-Stream...               Brasil   \n",
       "2  https://www.amazon.com.br/Fire-TV-Stick-Stream...               Brasil   \n",
       "3  https://www.amazon.com.br/Fire-TV-Stick-Stream...               Brasil   \n",
       "4  https://www.amazon.com.br/Fire-TV-Stick-Stream...               Brasil   \n",
       "\n",
       "  Vericidade da compra  \n",
       "0    Compra verificada  \n",
       "1    Compra verificada  \n",
       "2    Compra verificada  \n",
       "3    Compra verificada  \n",
       "4    Compra verificada  "
      ]
     },
     "execution_count": 36,
     "metadata": {},
     "output_type": "execute_result"
    }
   ],
   "source": [
    "df = pd.read_excel('../data/metadados.xlsx')\n",
    "df.head()"
   ]
  },
  {
   "cell_type": "markdown",
   "metadata": {},
   "source": [
    "### Creating .txt file"
   ]
  },
  {
   "cell_type": "code",
   "execution_count": 37,
   "metadata": {},
   "outputs": [],
   "source": [
    "rev_corpus = ''\n",
    "title_corupus = ''\n",
    "\n",
    "comments = df['Comentário'].tolist()\n",
    "titles = df['Título'].tolist()\n",
    "ct = zip(comments, titles)\n",
    "\n",
    "for c, t in ct:\n",
    "  rev_corpus = rev_corpus + \" \" + c\n",
    "  title_corupus = title_corupus + \" \" + t"
   ]
  },
  {
   "cell_type": "markdown",
   "metadata": {},
   "source": [
    "### Saving file"
   ]
  },
  {
   "cell_type": "code",
   "execution_count": 38,
   "metadata": {},
   "outputs": [],
   "source": [
    "with open('../data/rev_corpus.txt', 'w') as txt_file:\n",
    "  txt_file.write(unidecode.unidecode(rev_corpus))\n",
    "\n",
    "with open('../data/title_corpus.txt', 'w') as txt_file:\n",
    "  txt_file.write(unidecode.unidecode(title_corupus))"
   ]
  }
 ],
 "metadata": {
  "kernelspec": {
   "display_name": "Python 3.10.0 64-bit",
   "language": "python",
   "name": "python3"
  },
  "language_info": {
   "codemirror_mode": {
    "name": "ipython",
    "version": 3
   },
   "file_extension": ".py",
   "mimetype": "text/x-python",
   "name": "python",
   "nbconvert_exporter": "python",
   "pygments_lexer": "ipython3",
   "version": "3.10.0"
  },
  "orig_nbformat": 4,
  "vscode": {
   "interpreter": {
    "hash": "dd86c2ca81e94e9671e6a00c1151869a281542444b464bd149dcb3cefa24f424"
   }
  }
 },
 "nbformat": 4,
 "nbformat_minor": 2
}
